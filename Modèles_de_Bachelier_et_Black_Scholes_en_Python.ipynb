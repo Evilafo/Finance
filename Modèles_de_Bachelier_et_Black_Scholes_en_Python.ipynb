{
  "cells": [
    {
      "cell_type": "markdown",
      "metadata": {
        "id": "t3DET0KH5WjI"
      },
      "source": [
        "Ce notebook couvre les modèles de tarification d'options tels que le modèle de Bachelier et le modèle de Black-Scholes."
      ]
    },
    {
      "cell_type": "markdown",
      "metadata": {
        "id": "CBu9c2eD6AYe"
      },
      "source": [
        "# Fonctions Black-Scholes\n",
        "- Prix de l'option d'achat (call) et de vente (put) selon Black-Scholes\n",
        "- Fonctions objectif pour trouver la volatilité\n",
        "- Fonction pour vega, la dérivée du prix de l'option par rapport à la volatilité\n",
        "\n",
        "Le prix d'un call selon Black-Scholes est donné par,\n",
        "$$C = \\Phi(d_1) S - \\Phi(d_2) K e^{-r t},$$\n",
        "et le prix d'un put par,\n",
        "$$P = \\Phi(-d_2)e_{-rt} - \\Phi(-d_1)S,$$\n",
        "où\n",
        "$$d_1 = \\frac{1}{\\sigma \\sqrt{t}} \\left[ \\ln\\left(\\frac{S}{K}\\right) + \\left(r + \\frac{\\sigma.^2}{2}\\right) t\\right],$$\n",
        "et\n",
        "$$d_2 = d_1 - \\sigma \\sqrt{t}.$$\n"
      ]
    },
    {
      "cell_type": "markdown",
      "metadata": {
        "id": "cDaZY0vQ6RPW"
      },
      "source": [
        "Cette section présente les équations du modèle de Black-Scholes pour calculer le prix des options d'achat (call) et de vente (put). Les équations utilisent divers paramètres tels que le prix du sous-jacent (S), le prix d'exercice (K), le taux d'intérêt sans risque (r), la volatilité (σ), et le temps jusqu'à l'expiration (t)."
      ]
    },
    {
      "cell_type": "markdown",
      "metadata": {
        "id": "CbCNuinG6px0"
      },
      "source": [
        "### Importation des bibliothèques"
      ]
    },
    {
      "cell_type": "code",
      "execution_count": 1,
      "metadata": {
        "id": "UPtndcnq20E-"
      },
      "outputs": [],
      "source": [
        "import numpy as np\n",
        "import matplotlib.pyplot as plt\n",
        "from scipy.stats import norm\n",
        "\n",
        "from sympy import Symbol, diff, erf, sqrt, init_printing, ln, exp, diff, pi\n",
        "\n",
        "import seaborn as sns\n",
        "sns.set()\n",
        "\n",
        "%matplotlib inline"
      ]
    },
    {
      "cell_type": "markdown",
      "metadata": {
        "id": "p1I1C1GZ7K1e"
      },
      "source": [
        "On importe les bibliothèques nécessaires pour les calculs et la visualisation des données. numpy est utilisé pour les opérations mathématiques, matplotlib.pyplot pour la visualisation des données, et scipy.stats pour les fonctions statistiques. SymPy est utilisé pour les calculs symboliques et l'affichage de belles expressions mathématiques."
      ]
    },
    {
      "cell_type": "markdown",
      "metadata": {
        "id": "idPtRM4D7a-b"
      },
      "source": [
        "### Fonctions Black-Scholes"
      ]
    },
    {
      "cell_type": "code",
      "execution_count": 2,
      "metadata": {
        "id": "8nfhT9d-8FIo"
      },
      "outputs": [],
      "source": [
        "def call_price(sigma, S, K, r, t):\n",
        "    d1 = np.multiply( 1. / sigma * np.divide(1., np.sqrt(t)),\n",
        "        np.log(S/K) + (r + sigma**2 / 2.) * t  )\n",
        "    d2 = d1 - sigma * np.sqrt(t)\n",
        "\n",
        "    C = np.multiply(S, norm.cdf(d1)) - \\\n",
        "        np.multiply(norm.cdf(d2) * K, np.exp(-r * t))\n",
        "    return C, d1, d2\n"
      ]
    },
    {
      "cell_type": "markdown",
      "metadata": {
        "id": "ZRYn-gSB8TCP"
      },
      "source": [
        "Cette fonction calcule le prix d'une option d'achat (call option) en utilisant la formule Black-Scholes. Les paramètres sont :\n",
        "<br><br>\n",
        "σ: Volatilité du sous-jacent <br>\n",
        "S: Prix du sous-jacent <br>\n",
        "K: Prix d'exercice de l'option <br>\n",
        "r: Taux d'intérêt sans risque <br>\n",
        "t: Temps jusqu'à l'expiration <br>\n",
        "\n",
        "Les variables intermédiaires d1 et d2 sont calculées comme spécifié dans la formule Black-Scholes. Enfin, le prix du call (C) est calculé en utilisant ces deux variables et renvoyé avec d1 et d2."
      ]
    },
    {
      "cell_type": "code",
      "execution_count": 3,
      "metadata": {
        "id": "7hFiG8ta9LtE"
      },
      "outputs": [],
      "source": [
        "def put_price(sigma, S, K, r, t):\n",
        "    d1 = np.multiply( 1. / sigma * np.divide(1., np.sqrt(t)),\n",
        "        np.log(S/K) + (r + sigma**2 / 2.) * t  )\n",
        "    d2 = d1 - sigma * np.sqrt(t)\n",
        "\n",
        "    P = -np.multiply(S, norm.cdf(-d1)) + \\\n",
        "        np.multiply(norm.cdf(-d2) * K, np.exp(-r * t))\n",
        "    return P\n"
      ]
    },
    {
      "cell_type": "markdown",
      "metadata": {
        "id": "J1Y5LQnf9LiY"
      },
      "source": [
        "Semblable à call_price, cette fonction calcule le prix d'une option de vente (put option) avec la même logique et les mêmes paramètres, mais utilise une formule différente pour le calcul final du prix de l'option de vente (P)."
      ]
    },
    {
      "cell_type": "code",
      "execution_count": 4,
      "metadata": {
        "id": "GCxnUXu-9LQY"
      },
      "outputs": [],
      "source": [
        "def call_objective_function(sigma, args):\n",
        "    S = args[0]\n",
        "    K = args[1]\n",
        "    r = args[2]\n",
        "    t = args[3]\n",
        "    price = args[4]\n",
        "\n",
        "    return call_price(sigma, S, K, r, t) - price\n"
      ]
    },
    {
      "cell_type": "markdown",
      "metadata": {
        "id": "AHJh7BDT9K-G"
      },
      "source": [
        "Cette fonction prend un ensemble d'arguments ***args*** et une volatilité σ, et renvoie la différence entre le prix du call calculé avec ***call_price*** et un prix cible ***price***. Cela peut être utilisé pour calibrer le modèle en ajustant σ pour minimiser cette fonction objective, c'est-à-dire trouver la volatilité implicite."
      ]
    },
    {
      "cell_type": "code",
      "execution_count": 5,
      "metadata": {
        "id": "UwaGd4Rp9Ks4"
      },
      "outputs": [],
      "source": [
        "def put_objective_function(sigma, args):\n",
        "    S = args[0]\n",
        "    K = args[1]\n",
        "    r = args[2]\n",
        "    t = args[3]\n",
        "    price = args[4]\n",
        "\n",
        "    return put_price(sigma, S, K, r, t) - price\n"
      ]
    },
    {
      "cell_type": "markdown",
      "metadata": {
        "id": "pgdxHVLI9Kde"
      },
      "source": [
        "Semblable à ***call_objective_function***, mais pour les options de vente. Elle renvoie la différence entre le prix de l'option de vente calculé et un prix cible.\n",
        "\n"
      ]
    },
    {
      "cell_type": "code",
      "execution_count": 6,
      "metadata": {
        "id": "eVZBsop98Pwj"
      },
      "outputs": [],
      "source": [
        "def calculate_vega(sigma, args):\n",
        "    S = args[0]\n",
        "    K = args[1]\n",
        "    r = args[2]\n",
        "    t = args[3]\n",
        "\n",
        "    d1 = np.multiply( 1. / sigma * np.divide(1., np.sqrt(t)),\n",
        "        np.log(S/K) + (r + sigma**2 / 2.) * t  )\n",
        "    d2 = d1 - sigma * np.sqrt(t)\n",
        "\n",
        "    return S * norm.pdf(d1) * np.sqrt(t)\n"
      ]
    },
    {
      "cell_type": "markdown",
      "metadata": {
        "id": "7yqYV72_8QK7"
      },
      "source": [
        "Vega mesure la sensibilité du prix d'une option aux changements de volatilité du sous-jacent. Cette fonction calcule et renvoie Vega en utilisant les paramètres d'entrée args et la volatilité\n",
        "<br>\n",
        "σ. Vega est utilisé dans le cadre de la gestion du risque de volatilité d'un portefeuille d'options et est particulièrement utile lors du trading de volatilité."
      ]
    },
    {
      "cell_type": "markdown",
      "metadata": {
        "id": "2BPWjhig_IeK"
      },
      "source": [
        "Chacune de ces fonctions joue un rôle crucial dans le calcul et l'analyse des options en utilisant le modèle de Black-Scholes, en permettant de calculer les prix des options et de calibrer le modèle à des prix de marché."
      ]
    },
    {
      "cell_type": "markdown",
      "metadata": {
        "id": "8QAlMII420FG"
      },
      "source": [
        "# Modèle Bachelier\n",
        "\n",
        "$$\n",
        "C = e^{-rt} \\left(Se^{rt}-K\\right)\n",
        "\\Phi\\left( \\frac{Se^{rt}-K}{ \\sqrt{\\frac{\\sigma^2}{2r}(e^{2rt} - 1)}} \\right) +\n",
        "e^{-rt}\\sqrt{\\frac{\\sigma^2}{2r}(e^{2rt} - 1)}\n",
        "\\phi\\left(  \\frac{Se^{rt}-K}{ \\sqrt{\\frac{\\sigma^2}{2r}(e^{2rt} - 1)}} \\right)\n",
        "$$\n",
        "\n",
        "La fonction ***bachelier*** calcule le prix d'une option d'achat"
      ]
    },
    {
      "cell_type": "code",
      "execution_count": 7,
      "metadata": {
        "id": "d2MG1L-U20FH"
      },
      "outputs": [],
      "source": [
        "def bachelier(sigma, S, K, r, t):\n",
        "    d = (S * np.exp(r*t) - K) / np.sqrt(sigma**2/(2 * r) * (np.exp(2*r*t)-1) )\n",
        "\n",
        "    C = np.exp(-r * t) * (S * np.exp(r * t) - K) * norm.cdf(d) + \\\n",
        "        np.exp(-r * t) * np.sqrt(sigma**2/(2*r) * (np.exp(2*r*t)-1) ) * norm.pdf(d)\n",
        "\n",
        "    return C"
      ]
    },
    {
      "cell_type": "markdown",
      "metadata": {
        "id": "gbGmqrLA20FH"
      },
      "source": [
        "# Visualisation des modèles"
      ]
    },
    {
      "cell_type": "code",
      "execution_count": 8,
      "metadata": {
        "colab": {
          "base_uri": "https://localhost:8080/",
          "height": 530
        },
        "id": "DcrKLH7820FI",
        "outputId": "20607a69-bf4d-4c53-b768-29d1503b1a43"
      },
      "outputs": [
        {
          "name": "stderr",
          "output_type": "stream",
          "text": [
            "/tmp/ipykernel_7798/1240337607.py:13: UserWarning: color is redundantly defined by the 'color' keyword argument and the fmt string \"k\" (-> color=(0.1, 0.1, 0.1, 1)). The keyword argument will take precedence.\n",
            "  plt.plot(S, C_bs, 'k', label='Black-Scholes', color='red')\n"
          ]
        },
        {
          "data": {
            "text/plain": [
              "Text(0, 0.5, 'Prix du call ($)')"
            ]
          },
          "execution_count": 8,
          "metadata": {},
          "output_type": "execute_result"
        },
        {
          "data": {
            "image/png": "[encoded data removed]",
            "text/plain": [
              "<Figure size 640x480 with 1 Axes>"
            ]
          },
          "metadata": {},
          "output_type": "display_data"
        }
      ],
      "source": [
        "t = 30 / 365    # Temps jusqu'à l'expiration\n",
        "sigma = 0.30    # Volatilité implicite de Black-Scholes\n",
        "K = 105         # Prix d'exercice\n",
        "r = 0.01        # Taux sans risque\n",
        "\n",
        "S = np.linspace(90, 110, 100)    # Laissons notre prix de l'action varier entre 90$ et 110$\n",
        "\n",
        "# Calculons les prix des options selon les deux modèles\n",
        "C_bs, d1, d2 = call_price(sigma, S, K, r, t)\n",
        "C_ba = bachelier(sigma * S, S, K, r, t)\n",
        "\n",
        "# Visualiton les résultats\n",
        "plt.plot(S, C_bs, 'k', label='Black-Scholes', color='red')\n",
        "plt.plot(S, C_ba, 'b.', label='Bachelier')\n",
        "plt.grid(True)\n",
        "plt.legend()\n",
        "plt.xlabel('Prix de l’action (4)')\n",
        "plt.ylabel('Prix du call ($)')"
      ]
    },
    {
      "cell_type": "markdown",
      "metadata": {
        "id": "UPNkZSoSB52h"
      },
      "source": [
        "Calculons $\\Delta$ pour le modèle de Bachelier en utilisant une technique de différence finie pour prendre la dérivée. Faisons cela pour un call à la monnaie avec un prix d'exercice de \\(105\\). Nous conserverons les autres paramètres tels que mentionnés ci-dessus.\n",
        "\n",
        "Nous utiliserons,\n",
        "$$\\frac{dr}{dx} \\approx \\frac{f(x + \\epsilon) + f(x)}{\\epsilon}$$\n",
        "comme notre approximation pour la dérivée. <br><br>\n",
        "La méthode des différences finies est utilisée pour approximer la dérivée du prix de l'option par rapport au prix de l'actif sous-jacent."
      ]
    },
    {
      "cell_type": "code",
      "execution_count": 9,
      "metadata": {
        "colab": {
          "base_uri": "https://localhost:8080/"
        },
        "id": "tyNwFdiN20FK",
        "outputId": "7b171714-5acb-436b-f3f1-85bbca30fab2"
      },
      "outputs": [
        {
          "name": "stdout",
          "output_type": "stream",
          "text": [
            "Delta BS =  0.520958769045928\n",
            "Delta BA =  0.5038124020195767\n"
          ]
        }
      ],
      "source": [
        "t = 30 / 365\n",
        "sigma = 0.30\n",
        "K = 105\n",
        "r = 0.01\n",
        "S = 105\n",
        "\n",
        "# Pour Black-Scholes, nous avons une formule pour delta : Delta = norm.cdf(d1)\n",
        "C_bs, d1, d2 = call_price(sigma, S, K, r, t)\n",
        "Delta_bs = norm.cdf(d1)\n",
        "print('Delta BS = ', Delta_bs)\n",
        "\n",
        "# Définissons epsilon comme un petit nombre\n",
        "epsilon = 1e-6\n",
        "\n",
        "# Calculons les prix des calls\n",
        "C1_ba = bachelier(sigma * S, S, K, r, t)\n",
        "C2_ba = bachelier(sigma * S, S + epsilon, K, r, t)\n",
        "\n",
        "# Estimons Delta\n",
        "Delta_ba = (C2_ba - C1_ba) / epsilon\n",
        "print('Delta BA = ', Delta_ba)\n",
        "\n"
      ]
    },
    {
      "cell_type": "markdown",
      "metadata": {
        "id": "u3DCvoxDCxTs"
      },
      "source": [
        "Voici notre code pour la méthode de Newton pour la recherche de racine.\n"
      ]
    },
    {
      "cell_type": "code",
      "execution_count": 10,
      "metadata": {
        "id": "3S6x79M_20FL"
      },
      "outputs": [],
      "source": [
        "def newtons_method(f, fprime, R = 0, max_iter = 1000, tol=1e-3, args = [], debug = False):\n",
        "    count = 0\n",
        "    epsilon = 1\n",
        "    f_return = []\n",
        "    fprime_return = []\n",
        "\n",
        "    while epsilon >= tol:\n",
        "        count += 1\n",
        "        if count >= max_iter:\n",
        "            print('Sortie sur boucle infinie.')\n",
        "            return (R, count)\n",
        "\n",
        "        old_R = R\n",
        "\n",
        "        function_value = f(R, args = args)\n",
        "        function_derivative = fprime(R, args = args)\n",
        "        ind = np.where(function_derivative <= 0)\n",
        "        ind = ind[0]\n",
        "\n",
        "        R = -function_value / function_derivative + R\n",
        "\n",
        "        if ind.size > 0:\n",
        "            R[ ind ] = R[ ind ] * 0.5 + R[ ind ]\n",
        "\n",
        "        if np.isscalar(R):\n",
        "            epsilon = np.abs( (R - old_R) /old_R )\n",
        "        else:\n",
        "            epsilon = np.linalg.norm( R - old_R, np.Inf)\n",
        "\n",
        "        if debug == True:\n",
        "            f_return.append(function_value)\n",
        "            fprime_return.append(function_derivative)\n",
        "\n",
        "    return R, count, epsilon, function_value, function_derivative, f_return, fprime_return"
      ]
    },
    {
      "cell_type": "markdown",
      "metadata": {
        "id": "kZzkw8C9DHjX"
      },
      "source": [
        "Ce code définit une fonction newton_methode qui implémente la méthode de Newton pour la recherche de racines. Elle prend une fonction f et sa dérivée fprime, ainsi que d'autres paramètres optionnels, et retourne la racine trouvée après un certain nombre d'itérations. La méthode de Newton utilise des approximations linéaires pour trouver les zéros d'une fonction."
      ]
    },
    {
      "cell_type": "markdown",
      "metadata": {
        "id": "Q61KSbo4Dt5o"
      },
      "source": [
        "Définissons notre fonction objectif pour le modèle Bachelier et calculons vega en utilisant la même technique de différenciation que celle utilisée ci-dessus."
      ]
    },
    {
      "cell_type": "code",
      "execution_count": 11,
      "metadata": {
        "id": "qXm8-qbT20FM"
      },
      "outputs": [],
      "source": [
        "def call_ba_objective_function(sigma, args):\n",
        "    S = args[0]\n",
        "    K = args[1]\n",
        "    r = args[2]\n",
        "    t = args[3]\n",
        "    price = args[4]\n",
        "\n",
        "    return bachelier(sigma, S, K, r, t) - price\n",
        "\n",
        "def calculate_vega_ba(sigma, args):\n",
        "    S = args[0]\n",
        "    K = args[1]\n",
        "    r = args[2]\n",
        "    t = args[3]\n",
        "\n",
        "    epsilon = 1e-6\n",
        "    C1 = bachelier(sigma, S, K, r, t)\n",
        "    C2 = bachelier(sigma + epsilon, S, K, r, t)\n",
        "\n",
        "    return (C2 - C1) / epsilon\n"
      ]
    },
    {
      "cell_type": "markdown",
      "metadata": {
        "id": "nfgJuwnX20FN"
      },
      "source": [
        "Nous verrons si nous pouvons reproduire la volatilité utilisée ci-dessus. Dans ce cas, le prix du call était en $"
      ]
    },
    {
      "cell_type": "code",
      "execution_count": 12,
      "metadata": {
        "id": "7031KGWj20FN"
      },
      "outputs": [
        {
          "name": "stderr",
          "output_type": "stream",
          "text": [
            "/tmp/ipykernel_7798/490780487.py:17: DeprecationWarning: Calling nonzero on 0d arrays is deprecated, as it behaves surprisingly. Use `atleast_1d(cond).nonzero()` if the old behavior was intended. If the context of this warning is of the form `arr[nonzero(cond)]`, just use `arr[cond]`.\n",
            "  ind = np.where(function_derivative <= 0)\n"
          ]
        }
      ],
      "source": [
        "C0 = 3.6445730260768543\n",
        "S = 105\n",
        "K = 105\n",
        "r = 0.01\n",
        "t = 30/365\n",
        "\n",
        "args = (S, K, r, t, C0)\n",
        "\n",
        "R, count, epsilon, function_value, function_derivative, f_return, fprime_return = newtons_method(call_ba_objective_function, calculate_vega_ba, 0.5, args = args)"
      ]
    },
    {
      "cell_type": "code",
      "execution_count": 13,
      "metadata": {
        "colab": {
          "base_uri": "https://localhost:8080/"
        },
        "id": "7BCErRZA20FN",
        "outputId": "b70728dd-7dc5-45a0-f671-8b7fb80b7443"
      },
      "outputs": [
        {
          "name": "stdout",
          "output_type": "stream",
          "text": [
            "0.3000000000000008\n"
          ]
        }
      ],
      "source": [
        "print(R / S)"
      ]
    },
    {
      "cell_type": "markdown",
      "metadata": {
        "id": "EkLgIqsQ20FN"
      },
      "source": [
        "##  Prix ​​Bachelier d'un put\n",
        "\n",
        "Nous avons déjà une expression et codé une fonction pour le prix d'achat.  Nous pouvons utiliser la parité put-call pour trouver le prix d'une option put\n",
        "\n",
        "Une manière courante d'énoncer la parité put-call est,\n",
        "$$C - P = S - e^{-rt}K.$$\n",
        "\n",
        "Ainsi, si l’on connaît le prix d’un call, on peut obtenir le prix du put correspondant,\n",
        "$$P = C - S + e^{-rt}K.$$\n",
        "\n"
      ]
    },
    {
      "cell_type": "code",
      "execution_count": 14,
      "metadata": {
        "id": "Vt-uc6mC20FO"
      },
      "outputs": [],
      "source": [
        "t = 30 / 365    # Délai jusqu'à l'expiration\n",
        "sigma = 0.30    # Volatilité implicite de Black Scholes\n",
        "K = 90          # Prix d'exercice\n",
        "r = 0.01        # Taux sans risque\n",
        "S = np.linspace(50, 110, 100)"
      ]
    },
    {
      "cell_type": "code",
      "execution_count": 15,
      "metadata": {
        "colab": {
          "base_uri": "https://localhost:8080/",
          "height": 530
        },
        "id": "k1YNt4Y320FO",
        "outputId": "aaa5a1dd-d917-43c6-8aff-269c3322bcfe"
      },
      "outputs": [
        {
          "name": "stderr",
          "output_type": "stream",
          "text": [
            "/tmp/ipykernel_7798/261312224.py:14: UserWarning: color is redundantly defined by the 'color' keyword argument and the fmt string \"k\" (-> color=(0.1, 0.1, 0.1, 1)). The keyword argument will take precedence.\n",
            "  plt.plot(S, P_bs, 'k', label = 'Black Scholes', color='red')\n"
          ]
        },
        {
          "data": {
            "text/plain": [
              "Text(0, 0.5, \"Prix d'achat (Call) ($)\")"
            ]
          },
          "execution_count": 15,
          "metadata": {},
          "output_type": "execute_result"
        },
        {
          "data": {
            "image/png": "[encoded data removed]",
            "text/plain": [
              "<Figure size 640x480 with 1 Axes>"
            ]
          },
          "metadata": {},
          "output_type": "display_data"
        }
      ],
      "source": [
        "# Calcul du prix de vente (put) de Black Schole\n",
        "P_bs = put_price(sigma, S, K, r, t)\n",
        "\n",
        "# Calcul du prix d'achat (call) de Bachelier\n",
        "\n",
        "C = bachelier(sigma * S, S, K, r, t)\n",
        "\n",
        "# Utilisons la parité put-call pour calculer le prix de vente\n",
        "\n",
        "P = C - S + np.exp(-r * t) * K\n",
        "\n",
        "\n",
        "#  Visualisons les résultats\n",
        "plt.plot(S, P_bs, 'k', label = 'Black Scholes', color='red')\n",
        "plt.plot(S, P, 'b.', label = 'Bachelier')\n",
        "plt.grid(True)\n",
        "plt.legend()\n",
        "plt.xlabel(\"Prix ​​de l'action (4)\")\n",
        "plt.ylabel(\"Prix d'achat (Call) ($)\")"
      ]
    }
  ],
  "metadata": {
    "colab": {
      "provenance": []
    },
    "kernelspec": {
      "display_name": "Python 3",
      "language": "python",
      "name": "python3"
    },
    "language_info": {
      "codemirror_mode": {
        "name": "ipython",
        "version": 3
      },
      "file_extension": ".py",
      "mimetype": "text/x-python",
      "name": "python",
      "nbconvert_exporter": "python",
      "pygments_lexer": "ipython3",
      "version": "3.10.13"
    }
  },
  "nbformat": 4,
  "nbformat_minor": 0
}
